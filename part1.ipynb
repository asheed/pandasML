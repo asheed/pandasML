{
 "cells": [
  {
   "cell_type": "code",
   "execution_count": 1,
   "metadata": {
    "collapsed": true,
    "pycharm": {
     "name": "#%%\n",
     "is_executing": false
    }
   },
   "outputs": [],
   "source": [
    "import pandas as pd\n",
    "\n",
    "# DataFrame() 함수로 데이터프레임 변환. 변수 df에 저장.\n",
    "exam_data = { '이름': ['서준', '우현', '인아'],\n",
    "              '수학': [90, 80, 70],\n",
    "              '영어': [98, 89, 95],\n",
    "              '음악': [85, 95, 100],\n",
    "              '체육' : [100, 90, 90] }"
   ]
  },
  {
   "cell_type": "code",
   "execution_count": 2,
   "outputs": [
    {
     "name": "stdout",
     "text": [
      "    이름  수학  영어   음악   체육\n서준  서준  90  98   85  100\n우현  우현  80  89   95   90\n인아  인아  70  95  100   90\n"
     ],
     "output_type": "stream"
    }
   ],
   "source": [
    "df = pd.DataFrame(exam_data, index=['서준', '우현', '인아'])\n",
    "print(df)"
   ],
   "metadata": {
    "collapsed": false,
    "pycharm": {
     "name": "#%%\n",
     "is_executing": false
    }
   }
  },
  {
   "cell_type": "code",
   "execution_count": 3,
   "outputs": [
    {
     "data": {
      "text/plain": "    이름  수학  영어   음악   체육\n서준  서준  90  98   85  100\n인아  인아  70  95  100   90",
      "text/html": "<div>\n<style scoped>\n    .dataframe tbody tr th:only-of-type {\n        vertical-align: middle;\n    }\n\n    .dataframe tbody tr th {\n        vertical-align: top;\n    }\n\n    .dataframe thead th {\n        text-align: right;\n    }\n</style>\n<table border=\"1\" class=\"dataframe\">\n  <thead>\n    <tr style=\"text-align: right;\">\n      <th></th>\n      <th>이름</th>\n      <th>수학</th>\n      <th>영어</th>\n      <th>음악</th>\n      <th>체육</th>\n    </tr>\n  </thead>\n  <tbody>\n    <tr>\n      <th>서준</th>\n      <td>서준</td>\n      <td>90</td>\n      <td>98</td>\n      <td>85</td>\n      <td>100</td>\n    </tr>\n    <tr>\n      <th>인아</th>\n      <td>인아</td>\n      <td>70</td>\n      <td>95</td>\n      <td>100</td>\n      <td>90</td>\n    </tr>\n  </tbody>\n</table>\n</div>"
     },
     "metadata": {},
     "output_type": "execute_result",
     "execution_count": 3
    }
   ],
   "source": [
    "df.iloc[0:3:2]"
   ],
   "metadata": {
    "collapsed": false,
    "pycharm": {
     "name": "#%%\n",
     "is_executing": false
    }
   }
  },
  {
   "cell_type": "code",
   "execution_count": 4,
   "outputs": [
    {
     "data": {
      "text/plain": "    이름  수학  영어   음악   체육\n서준  서준  90  98   85  100\n인아  인아  70  95  100   90",
      "text/html": "<div>\n<style scoped>\n    .dataframe tbody tr th:only-of-type {\n        vertical-align: middle;\n    }\n\n    .dataframe tbody tr th {\n        vertical-align: top;\n    }\n\n    .dataframe thead th {\n        text-align: right;\n    }\n</style>\n<table border=\"1\" class=\"dataframe\">\n  <thead>\n    <tr style=\"text-align: right;\">\n      <th></th>\n      <th>이름</th>\n      <th>수학</th>\n      <th>영어</th>\n      <th>음악</th>\n      <th>체육</th>\n    </tr>\n  </thead>\n  <tbody>\n    <tr>\n      <th>서준</th>\n      <td>서준</td>\n      <td>90</td>\n      <td>98</td>\n      <td>85</td>\n      <td>100</td>\n    </tr>\n    <tr>\n      <th>인아</th>\n      <td>인아</td>\n      <td>70</td>\n      <td>95</td>\n      <td>100</td>\n      <td>90</td>\n    </tr>\n  </tbody>\n</table>\n</div>"
     },
     "metadata": {},
     "output_type": "execute_result",
     "execution_count": 4
    }
   ],
   "source": [
    "df.iloc[::2]"
   ],
   "metadata": {
    "collapsed": false,
    "pycharm": {
     "name": "#%%\n",
     "is_executing": false
    }
   }
  },
  {
   "cell_type": "code",
   "execution_count": 5,
   "outputs": [
    {
     "data": {
      "text/plain": "    이름  수학  영어   음악   체육\n인아  인아  70  95  100   90\n우현  우현  80  89   95   90\n서준  서준  90  98   85  100",
      "text/html": "<div>\n<style scoped>\n    .dataframe tbody tr th:only-of-type {\n        vertical-align: middle;\n    }\n\n    .dataframe tbody tr th {\n        vertical-align: top;\n    }\n\n    .dataframe thead th {\n        text-align: right;\n    }\n</style>\n<table border=\"1\" class=\"dataframe\">\n  <thead>\n    <tr style=\"text-align: right;\">\n      <th></th>\n      <th>이름</th>\n      <th>수학</th>\n      <th>영어</th>\n      <th>음악</th>\n      <th>체육</th>\n    </tr>\n  </thead>\n  <tbody>\n    <tr>\n      <th>인아</th>\n      <td>인아</td>\n      <td>70</td>\n      <td>95</td>\n      <td>100</td>\n      <td>90</td>\n    </tr>\n    <tr>\n      <th>우현</th>\n      <td>우현</td>\n      <td>80</td>\n      <td>89</td>\n      <td>95</td>\n      <td>90</td>\n    </tr>\n    <tr>\n      <th>서준</th>\n      <td>서준</td>\n      <td>90</td>\n      <td>98</td>\n      <td>85</td>\n      <td>100</td>\n    </tr>\n  </tbody>\n</table>\n</div>"
     },
     "metadata": {},
     "output_type": "execute_result",
     "execution_count": 5
    }
   ],
   "source": [
    "df.iloc[::-1]"
   ],
   "metadata": {
    "collapsed": false,
    "pycharm": {
     "name": "#%%\n",
     "is_executing": false
    }
   }
  },
  {
   "cell_type": "code",
   "execution_count": null,
   "outputs": [],
   "source": [
    "\n"
   ],
   "metadata": {
    "collapsed": false,
    "pycharm": {
     "name": "#%%\n"
    }
   }
  }
 ],
 "metadata": {
  "language_info": {
   "codemirror_mode": {
    "name": "ipython",
    "version": 2
   },
   "file_extension": ".py",
   "mimetype": "text/x-python",
   "name": "python",
   "nbconvert_exporter": "python",
   "pygments_lexer": "ipython2",
   "version": "2.7.6"
  },
  "kernelspec": {
   "name": "python3",
   "language": "python",
   "display_name": "Python 3"
  },
  "pycharm": {
   "stem_cell": {
    "cell_type": "raw",
    "source": [],
    "metadata": {
     "collapsed": false
    }
   }
  }
 },
 "nbformat": 4,
 "nbformat_minor": 0
}